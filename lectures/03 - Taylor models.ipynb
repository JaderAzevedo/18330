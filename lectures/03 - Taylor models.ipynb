{
 "cells": [
  {
   "cell_type": "markdown",
   "metadata": {},
   "source": [
    "# TaylorModels\n",
    "\n",
    "- **Taylor model** $\\equiv$ **Taylor polynomial** + **interval bound** of truncation error *and* rounding error\n",
    "\n",
    "\n",
    "- https://github.com/JuliaIntervals/TaylorModels.jl"
   ]
  },
  {
   "cell_type": "code",
   "execution_count": 2,
   "metadata": {},
   "outputs": [
    {
     "name": "stderr",
     "output_type": "stream",
     "text": [
      "\u001b[32m\u001b[1m    Updating\u001b[22m\u001b[39m registry at `C:\\Users\\jader\\.julia\\registries\\General`\n",
      "\u001b[32m\u001b[1m   Resolving\u001b[22m\u001b[39m package versions...\n",
      "\u001b[32m\u001b[1m   Installed\u001b[22m\u001b[39m Adapt ────────────────── v3.1.1\n",
      "\u001b[32m\u001b[1m   Installed\u001b[22m\u001b[39m FunctionWrappers ─────── v1.1.1\n",
      "\u001b[32m\u001b[1m   Installed\u001b[22m\u001b[39m GenericSVD ───────────── v0.3.0\n",
      "\u001b[32m\u001b[1m   Installed\u001b[22m\u001b[39m ThreadingUtilities ───── v0.2.2\n",
      "\u001b[32m\u001b[1m   Installed\u001b[22m\u001b[39m OffsetArrays ─────────── v1.5.2\n",
      "\u001b[32m\u001b[1m   Installed\u001b[22m\u001b[39m ArnoldiMethod ────────── v0.1.0\n",
      "\u001b[32m\u001b[1m   Installed\u001b[22m\u001b[39m Intervals ────────────── v1.5.0\n",
      "\u001b[32m\u001b[1m   Installed\u001b[22m\u001b[39m TaylorModels ─────────── v0.3.7\n",
      "\u001b[32m\u001b[1m   Installed\u001b[22m\u001b[39m Espresso ─────────────── v0.6.1\n",
      "\u001b[32m\u001b[1m   Installed\u001b[22m\u001b[39m Parameters ───────────── v0.12.2\n",
      "\u001b[32m\u001b[1m   Installed\u001b[22m\u001b[39m LineSearches ─────────── v7.1.1\n",
      "\u001b[32m\u001b[1m   Installed\u001b[22m\u001b[39m VertexSafeGraphs ─────── v0.1.2\n",
      "\u001b[32m\u001b[1m   Installed\u001b[22m\u001b[39m Polynomials ──────────── v1.2.0\n",
      "\u001b[32m\u001b[1m   Installed\u001b[22m\u001b[39m FastClosures ─────────── v0.3.2\n",
      "\u001b[32m\u001b[1m   Installed\u001b[22m\u001b[39m IfElse ───────────────── v0.1.0\n",
      "\u001b[32m\u001b[1m   Installed\u001b[22m\u001b[39m ExponentialUtilities ─── v1.8.0\n",
      "\u001b[32m\u001b[1m   Installed\u001b[22m\u001b[39m SparseDiffTools ──────── v1.12.0\n",
      "\u001b[32m\u001b[1m   Installed\u001b[22m\u001b[39m TaylorSeries ─────────── v0.10.10\n",
      "\u001b[32m\u001b[1m   Installed\u001b[22m\u001b[39m SetRounding ──────────── v0.2.0\n",
      "\u001b[32m\u001b[1m   Installed\u001b[22m\u001b[39m ConstructionBase ─────── v1.0.0\n",
      "\u001b[32m\u001b[1m   Installed\u001b[22m\u001b[39m Inflate ──────────────── v0.1.2\n",
      "\u001b[32m\u001b[1m   Installed\u001b[22m\u001b[39m IterativeSolvers ─────── v0.9.0\n",
      "\u001b[32m\u001b[1m   Installed\u001b[22m\u001b[39m TreeViews ────────────── v0.3.0\n",
      "\u001b[32m\u001b[1m   Installed\u001b[22m\u001b[39m SimpleTraits ─────────── v0.9.3\n",
      "\u001b[32m\u001b[1m   Installed\u001b[22m\u001b[39m OrdinaryDiffEq ───────── v5.49.1\n",
      "\u001b[32m\u001b[1m   Installed\u001b[22m\u001b[39m Hwloc ────────────────── v1.2.0\n",
      "\u001b[32m\u001b[1m   Installed\u001b[22m\u001b[39m DocStringExtensions ──── v0.8.3\n",
      "\u001b[32m\u001b[1m   Installed\u001b[22m\u001b[39m LightGraphs ──────────── v1.3.5\n",
      "\u001b[32m\u001b[1m   Installed\u001b[22m\u001b[39m ZygoteRules ──────────── v0.2.1\n",
      "\u001b[32m\u001b[1m   Installed\u001b[22m\u001b[39m UnPack ───────────────── v1.0.2\n",
      "\u001b[32m\u001b[1m   Installed\u001b[22m\u001b[39m SLEEFPirates ─────────── v0.6.7\n",
      "\u001b[32m\u001b[1m   Installed\u001b[22m\u001b[39m NLsolve ──────────────── v4.5.1\n",
      "\u001b[32m\u001b[1m   Installed\u001b[22m\u001b[39m CommonSubexpressions ─── v0.3.0\n",
      "\u001b[32m\u001b[1m   Installed\u001b[22m\u001b[39m Mocking ──────────────── v0.7.1\n",
      "\u001b[32m\u001b[1m   Installed\u001b[22m\u001b[39m Hwloc_jll ────────────── v2.4.0+0\n",
      "\u001b[32m\u001b[1m   Installed\u001b[22m\u001b[39m DiffEqBase ───────────── v6.53.6\n",
      "\u001b[32m\u001b[1m   Installed\u001b[22m\u001b[39m DiffResults ──────────── v1.0.3\n",
      "\u001b[32m\u001b[1m   Installed\u001b[22m\u001b[39m FastRounding ─────────── v0.2.0\n",
      "\u001b[32m\u001b[1m   Installed\u001b[22m\u001b[39m LabelledArrays ───────── v1.4.0\n",
      "\u001b[32m\u001b[1m   Installed\u001b[22m\u001b[39m Setfield ─────────────── v0.7.0\n",
      "\u001b[32m\u001b[1m   Installed\u001b[22m\u001b[39m DiffRules ────────────── v1.0.2\n",
      "\u001b[32m\u001b[1m   Installed\u001b[22m\u001b[39m ErrorfreeArithmetic ──── v0.5.2\n",
      "\u001b[32m\u001b[1m   Installed\u001b[22m\u001b[39m TimeZones ────────────── v1.5.3\n",
      "\u001b[32m\u001b[1m   Installed\u001b[22m\u001b[39m NonlinearSolve ───────── v0.3.4\n",
      "\u001b[32m\u001b[1m   Installed\u001b[22m\u001b[39m ExprTools ────────────── v0.1.3\n",
      "\u001b[32m\u001b[1m   Installed\u001b[22m\u001b[39m RecursiveArrayTools ──── v2.10.0\n",
      "\u001b[32m\u001b[1m   Installed\u001b[22m\u001b[39m RecursiveFactorization ─ v0.1.9\n",
      "\u001b[32m\u001b[1m   Installed\u001b[22m\u001b[39m Distances ────────────── v0.10.1\n",
      "\u001b[32m\u001b[1m   Installed\u001b[22m\u001b[39m ForwardDiff ──────────── v0.10.15\n",
      "\u001b[32m\u001b[1m   Installed\u001b[22m\u001b[39m NLSolversBase ────────── v7.7.1\n",
      "\u001b[32m\u001b[1m   Installed\u001b[22m\u001b[39m ArrayInterface ───────── v2.14.17\n",
      "\u001b[32m\u001b[1m   Installed\u001b[22m\u001b[39m IntervalArithmetic ───── v0.17.7\n",
      "\u001b[32m\u001b[1m   Installed\u001b[22m\u001b[39m FiniteDiff ───────────── v2.7.2\n",
      "\u001b[32m\u001b[1m   Installed\u001b[22m\u001b[39m RoundingEmulator ─────── v0.2.1\n",
      "\u001b[32m\u001b[1m   Installed\u001b[22m\u001b[39m VectorizationBase ────── v0.16.1\n",
      "\u001b[32m\u001b[1m   Installed\u001b[22m\u001b[39m IntervalRootFinding ──── v0.5.5\n",
      "\u001b[32m\u001b[1m   Installed\u001b[22m\u001b[39m TaylorIntegration ────── v0.8.6\n",
      "\u001b[32m\u001b[1m   Installed\u001b[22m\u001b[39m LoopVectorization ────── v0.10.0\n",
      "\u001b[32m\u001b[1m   Installed\u001b[22m\u001b[39m CRlibm ───────────────── v0.8.0\n",
      "\u001b[32m\u001b[1mUpdating\u001b[22m\u001b[39m `C:\\Users\\jader\\.julia\\environments\\v1.6\\Project.toml`\n",
      " \u001b[90m [314ce334] \u001b[39m\u001b[92m+ TaylorModels v0.3.7\u001b[39m\n",
      "\u001b[32m\u001b[1mUpdating\u001b[22m\u001b[39m `C:\\Users\\jader\\.julia\\environments\\v1.6\\Manifest.toml`\n",
      " \u001b[90m [79e6a3ab] \u001b[39m\u001b[93m↑ Adapt v2.4.0 ⇒ v3.1.1\u001b[39m\n",
      " \u001b[90m [ec485272] \u001b[39m\u001b[92m+ ArnoldiMethod v0.1.0\u001b[39m\n",
      " \u001b[90m [4fba245c] \u001b[39m\u001b[92m+ ArrayInterface v2.14.17\u001b[39m\n",
      " \u001b[90m [96374032] \u001b[39m\u001b[92m+ CRlibm v0.8.0\u001b[39m\n",
      " \u001b[90m [bbf7d656] \u001b[39m\u001b[92m+ CommonSubexpressions v0.3.0\u001b[39m\n",
      " \u001b[90m [187b0558] \u001b[39m\u001b[92m+ ConstructionBase v1.0.0\u001b[39m\n",
      " \u001b[90m [2b5f629d] \u001b[39m\u001b[92m+ DiffEqBase v6.53.6\u001b[39m\n",
      " \u001b[90m [163ba53b] \u001b[39m\u001b[92m+ DiffResults v1.0.3\u001b[39m\n",
      " \u001b[90m [b552c78f] \u001b[39m\u001b[92m+ DiffRules v1.0.2\u001b[39m\n",
      " \u001b[90m [b4f34e82] \u001b[39m\u001b[92m+ Distances v0.10.1\u001b[39m\n",
      " \u001b[90m [ffbed154] \u001b[39m\u001b[92m+ DocStringExtensions v0.8.3\u001b[39m\n",
      " \u001b[90m [90fa49ef] \u001b[39m\u001b[92m+ ErrorfreeArithmetic v0.5.2\u001b[39m\n",
      " \u001b[90m [6912e4f1] \u001b[39m\u001b[92m+ Espresso v0.6.1\u001b[39m\n",
      " \u001b[90m [d4d017d3] \u001b[39m\u001b[92m+ ExponentialUtilities v1.8.0\u001b[39m\n",
      " \u001b[90m [e2ba6199] \u001b[39m\u001b[92m+ ExprTools v0.1.3\u001b[39m\n",
      " \u001b[90m [9aa1b823] \u001b[39m\u001b[92m+ FastClosures v0.3.2\u001b[39m\n",
      " \u001b[90m [fa42c844] \u001b[39m\u001b[92m+ FastRounding v0.2.0\u001b[39m\n",
      " \u001b[90m [6a86dc24] \u001b[39m\u001b[92m+ FiniteDiff v2.7.2\u001b[39m\n",
      " \u001b[90m [f6369f11] \u001b[39m\u001b[92m+ ForwardDiff v0.10.15\u001b[39m\n",
      " \u001b[90m [069b7b12] \u001b[39m\u001b[92m+ FunctionWrappers v1.1.1\u001b[39m\n",
      " \u001b[90m [01680d73] \u001b[39m\u001b[92m+ GenericSVD v0.3.0\u001b[39m\n",
      " \u001b[90m [0e44f5e4] \u001b[39m\u001b[92m+ Hwloc v1.2.0\u001b[39m\n",
      " \u001b[90m [615f187c] \u001b[39m\u001b[92m+ IfElse v0.1.0\u001b[39m\n",
      " \u001b[90m [d25df0c9] \u001b[39m\u001b[92m+ Inflate v0.1.2\u001b[39m\n",
      " \u001b[90m [d1acc4aa] \u001b[39m\u001b[92m+ IntervalArithmetic v0.17.7\u001b[39m\n",
      " \u001b[90m [d2bf35a9] \u001b[39m\u001b[92m+ IntervalRootFinding v0.5.5\u001b[39m\n",
      " \u001b[90m [d8418881] \u001b[39m\u001b[92m+ Intervals v1.5.0\u001b[39m\n",
      " \u001b[90m [42fd0dbc] \u001b[39m\u001b[92m+ IterativeSolvers v0.9.0\u001b[39m\n",
      " \u001b[90m [2ee39098] \u001b[39m\u001b[92m+ LabelledArrays v1.4.0\u001b[39m\n",
      " \u001b[90m [093fc24a] \u001b[39m\u001b[92m+ LightGraphs v1.3.5\u001b[39m\n",
      " \u001b[90m [d3d80556] \u001b[39m\u001b[92m+ LineSearches v7.1.1\u001b[39m\n",
      " \u001b[90m [bdcacae8] \u001b[39m\u001b[92m+ LoopVectorization v0.10.0\u001b[39m\n",
      " \u001b[90m [78c3b35d] \u001b[39m\u001b[92m+ Mocking v0.7.1\u001b[39m\n",
      " \u001b[90m [46d2c3a1] \u001b[39m\u001b[92m+ MuladdMacro v0.2.2\u001b[39m\n",
      " \u001b[90m [d41bc354] \u001b[39m\u001b[92m+ NLSolversBase v7.7.1\u001b[39m\n",
      " \u001b[90m [2774e3e8] \u001b[39m\u001b[92m+ NLsolve v4.5.1\u001b[39m\n",
      " \u001b[90m [8913a72c] \u001b[39m\u001b[92m+ NonlinearSolve v0.3.4\u001b[39m\n",
      " \u001b[90m [6fe1bfb0] \u001b[39m\u001b[92m+ OffsetArrays v1.5.2\u001b[39m\n",
      " \u001b[90m [1dea7af3] \u001b[39m\u001b[92m+ OrdinaryDiffEq v5.49.1\u001b[39m\n",
      " \u001b[90m [d96e819e] \u001b[39m\u001b[92m+ Parameters v0.12.2\u001b[39m\n",
      " \u001b[90m [f27b6e38] \u001b[39m\u001b[92m+ Polynomials v1.2.0\u001b[39m\n",
      " \u001b[90m [731186ca] \u001b[39m\u001b[92m+ RecursiveArrayTools v2.10.0\u001b[39m\n",
      " \u001b[90m [f2c3362d] \u001b[39m\u001b[92m+ RecursiveFactorization v0.1.9\u001b[39m\n",
      " \u001b[90m [5eaf0fd0] \u001b[39m\u001b[92m+ RoundingEmulator v0.2.1\u001b[39m\n",
      " \u001b[90m [476501e8] \u001b[39m\u001b[92m+ SLEEFPirates v0.6.7\u001b[39m\n",
      " \u001b[90m [3cc68bcd] \u001b[39m\u001b[92m+ SetRounding v0.2.0\u001b[39m\n",
      " \u001b[90m [efcf1570] \u001b[39m\u001b[92m+ Setfield v0.7.0\u001b[39m\n",
      " \u001b[90m [699a6c99] \u001b[39m\u001b[92m+ SimpleTraits v0.9.3\u001b[39m\n",
      " \u001b[90m [47a9eef4] \u001b[39m\u001b[92m+ SparseDiffTools v1.12.0\u001b[39m\n",
      " \u001b[90m [90137ffa] \u001b[39m\u001b[95m↓ StaticArrays v1.0.1 ⇒ v0.12.5\u001b[39m\n",
      " \u001b[90m [09ab397b] \u001b[39m\u001b[95m↓ StructArrays v0.4.4 ⇒ v0.4.2\u001b[39m\n",
      " \u001b[90m [92b13dbe] \u001b[39m\u001b[92m+ TaylorIntegration v0.8.6\u001b[39m\n",
      " \u001b[90m [314ce334] \u001b[39m\u001b[92m+ TaylorModels v0.3.7\u001b[39m\n",
      " \u001b[90m [6aa5eb33] \u001b[39m\u001b[92m+ TaylorSeries v0.10.10\u001b[39m\n",
      " \u001b[90m [8290d209] \u001b[39m\u001b[92m+ ThreadingUtilities v0.2.2\u001b[39m\n",
      " \u001b[90m [f269a46b] \u001b[39m\u001b[92m+ TimeZones v1.5.3\u001b[39m\n",
      " \u001b[90m [a2a6695c] \u001b[39m\u001b[92m+ TreeViews v0.3.0\u001b[39m\n",
      " \u001b[90m [3a884ed6] \u001b[39m\u001b[92m+ UnPack v1.0.2\u001b[39m\n",
      " \u001b[90m [3d5dd08c] \u001b[39m\u001b[92m+ VectorizationBase v0.16.1\u001b[39m\n",
      " \u001b[90m [19fa3120] \u001b[39m\u001b[92m+ VertexSafeGraphs v0.1.2\u001b[39m\n",
      " \u001b[90m [700de1a5] \u001b[39m\u001b[92m+ ZygoteRules v0.2.1\u001b[39m\n",
      " \u001b[90m [e33a78d0] \u001b[39m\u001b[92m+ Hwloc_jll v2.4.0+0\u001b[39m\n",
      " \u001b[90m [4607b0f0] \u001b[39m\u001b[92m+ SuiteSparse\u001b[39m\n",
      "\u001b[32m\u001b[1m    Building\u001b[22m\u001b[39m TimeZones → `C:\\Users\\jader\\.julia\\scratchspaces\\44cfe95a-1eb2-52ea-b672-e2afdf69b78f\\4ba8a9579a243400db412b50300cd61d7447e583\\build.log`\n",
      "\u001b[32m\u001b[1m    Building\u001b[22m\u001b[39m CRlibm ───→ `C:\\Users\\jader\\.julia\\scratchspaces\\44cfe95a-1eb2-52ea-b672-e2afdf69b78f\\9d1c22cff9c04207f336b8e64840d0bd40d86e0e\\build.log`\n",
      "\u001b[32m\u001b[1mPrecompiling\u001b[22m\u001b[39m project...\n",
      "\u001b[32m  ✓ \u001b[39m\u001b[90mFastClosures\u001b[39m\n",
      "\u001b[32m  ✓ \u001b[39m\u001b[90mGenericSVD\u001b[39m\n",
      "\u001b[32m  ✓ \u001b[39m\u001b[90mInflate\u001b[39m\n",
      "\u001b[32m  ✓ \u001b[39m\u001b[90mSetRounding\u001b[39m\n",
      "\u001b[32m  ✓ \u001b[39m\u001b[90mUnPack\u001b[39m\n",
      "\u001b[32m  ✓ \u001b[39m\u001b[90mTreeViews\u001b[39m\n",
      "\u001b[32m  ✓ \u001b[39m\u001b[90mErrorfreeArithmetic\u001b[39m\n",
      "\u001b[32m  ✓ \u001b[39m\u001b[90mCommonSubexpressions\u001b[39m\n",
      "\u001b[32m  ✓ \u001b[39m\u001b[90mFunctionWrappers\u001b[39m\n",
      "\u001b[32m  ✓ \u001b[39m\u001b[90mAdapt\u001b[39m\n",
      "\u001b[32m  ✓ \u001b[39m\u001b[90mCRlibm\u001b[39m\n",
      "\u001b[32m  ✓ \u001b[39m\u001b[90mIfElse\u001b[39m\n",
      "\u001b[32m  ✓ \u001b[39m\u001b[90mConstructionBase\u001b[39m\n",
      "\u001b[32m  ✓ \u001b[39m\u001b[90mDocStringExtensions\u001b[39m\n",
      "\u001b[32m  ✓ \u001b[39m\u001b[90mRoundingEmulator\u001b[39m\n",
      "\u001b[32m  ✓ \u001b[39m\u001b[90mEspresso\u001b[39m\n",
      "\u001b[32m  ✓ \u001b[39m\u001b[90mZygoteRules\u001b[39m\n",
      "\u001b[32m  ✓ \u001b[39m\u001b[90mDistances\u001b[39m\n",
      "\u001b[32m  ✓ \u001b[39m\u001b[90mHwloc_jll\u001b[39m\n",
      "\u001b[32m  ✓ \u001b[39m\u001b[90mExponentialUtilities\u001b[39m\n",
      "\u001b[32m  ✓ \u001b[39m\u001b[90mSimpleTraits\u001b[39m\n",
      "\u001b[32m  ✓ \u001b[39m\u001b[90mIterativeSolvers\u001b[39m\n",
      "\u001b[32m  ✓ \u001b[39m\u001b[90mStaticArrays\u001b[39m\n",
      "\u001b[32m  ✓ \u001b[39m\u001b[90mStructArrays\u001b[39m\n",
      "\u001b[32m  ✓ \u001b[39m\u001b[90mTaylorSeries\u001b[39m\n",
      "\u001b[32m  ✓ \u001b[39m\u001b[90mArrayInterface\u001b[39m\n",
      "\u001b[32m  ✓ \u001b[39m\u001b[90mDiffRules\u001b[39m\n",
      "\u001b[32m  ✓ \u001b[39m\u001b[90mFastRounding\u001b[39m\n",
      "\u001b[32m  ✓ \u001b[39m\u001b[90mParameters\u001b[39m\n",
      "\u001b[32m  ✓ \u001b[39m\u001b[90mIntervals\u001b[39m\n",
      "\u001b[32m  ✓ \u001b[39m\u001b[90mOffsetArrays\u001b[39m\n",
      "\u001b[32m  ✓ \u001b[39m\u001b[90mHwloc\u001b[39m\n",
      "\u001b[32m  ✓ \u001b[39m\u001b[90mSetfield\u001b[39m\n",
      "\u001b[32m  ✓ \u001b[39m\u001b[90mDiffResults\u001b[39m\n",
      "\u001b[32m  ✓ \u001b[39m\u001b[90mContour\u001b[39m\n",
      "\u001b[32m  ✓ \u001b[39m\u001b[90mArnoldiMethod\u001b[39m\n",
      "\u001b[32m  ✓ \u001b[39m\u001b[90mRecursiveArrayTools\u001b[39m\n",
      "\u001b[32m  ✓ \u001b[39m\u001b[90mGeometryBasics\u001b[39m\n",
      "\u001b[32m  ✓ \u001b[39m\u001b[90mLabelledArrays\u001b[39m\n",
      "\u001b[91m  ✗ \u001b[39m\u001b[90mCSSUtil\u001b[39m\n",
      "\u001b[91m  ✗ \u001b[39m\u001b[90mJSExpr\u001b[39m\n",
      "\u001b[32m  ✓ \u001b[39m\u001b[90mFiniteDiff\u001b[39m\n",
      "\u001b[32m  ✓ \u001b[39m\u001b[90mPolynomials\u001b[39m\n",
      "\u001b[32m  ✓ \u001b[39m\u001b[90mColorSchemes\u001b[39m\n",
      "\u001b[32m  ✓ \u001b[39m\u001b[90mIntervalArithmetic\u001b[39m\n",
      "\u001b[32m  ✓ \u001b[39m\u001b[90mVectorizationBase\u001b[39m\n",
      "\u001b[32m  ✓ \u001b[39m\u001b[90mForwardDiff\u001b[39m\n",
      "\u001b[32m  ✓ \u001b[39m\u001b[90mThreadingUtilities\u001b[39m\n",
      "\u001b[32m  ✓ \u001b[39m\u001b[90mLightGraphs\u001b[39m\n",
      "\u001b[32m  ✓ \u001b[39m\u001b[90mSLEEFPirates\u001b[39m\n",
      "\u001b[32m  ✓ \u001b[39m\u001b[90mNonlinearSolve\u001b[39m\n",
      "\u001b[32m  ✓ \u001b[39m\u001b[90mNLSolversBase\u001b[39m\n",
      "\u001b[32m  ✓ \u001b[39m\u001b[90mIntervalRootFinding\u001b[39m\n",
      "\u001b[32m  ✓ \u001b[39m\u001b[90mVertexSafeGraphs\u001b[39m\n",
      "\u001b[32m  ✓ \u001b[39m\u001b[90mPlotUtils\u001b[39m\n",
      "\u001b[32m  ✓ \u001b[39m\u001b[90mSparseDiffTools\u001b[39m\n",
      "\u001b[32m  ✓ \u001b[39m\u001b[90mLineSearches\u001b[39m\n",
      "\u001b[32m  ✓ \u001b[39m\u001b[90mNLsolve\u001b[39m\n",
      "\u001b[32m  ✓ \u001b[39m\u001b[90mKnockout\u001b[39m\n",
      "\u001b[32m  ✓ \u001b[39m\u001b[90mPlotThemes\u001b[39m\n",
      "\u001b[32m  ✓ \u001b[39m\u001b[90mLoopVectorization\u001b[39m\n",
      "\u001b[32m  ✓ \u001b[39m\u001b[90mRecursiveFactorization\u001b[39m\n",
      "\u001b[32m  ✓ \u001b[39m\u001b[90mInteractBase\u001b[39m\n",
      "\u001b[32m  ✓ \u001b[39mInteract\n",
      "\u001b[32m  ✓ \u001b[39m\u001b[90mRecipesPipeline\u001b[39m\n",
      "\u001b[32m  ✓ \u001b[39m\u001b[90mDiffEqBase\u001b[39m\n",
      "\u001b[32m  ✓ \u001b[39mPlots\n",
      "\u001b[32m  ✓ \u001b[39m\u001b[90mOrdinaryDiffEq\u001b[39m\n",
      "\u001b[32m  ✓ \u001b[39m\u001b[90mTaylorIntegration\u001b[39m\n",
      "\u001b[32m  ✓ \u001b[39mTaylorModels\n",
      "68 dependencies successfully precompiled in 185 seconds (147 already precompiled, 1 skipped during auto due to previous errors)\n",
      "\u001b[91m2\u001b[39m dependencies errored\n"
     ]
    }
   ],
   "source": [
    "]add TaylorModels"
   ]
  },
  {
   "cell_type": "code",
   "execution_count": 6,
   "metadata": {},
   "outputs": [],
   "source": [
    "using TaylorModels\n",
    "using Latexify"
   ]
  },
  {
   "cell_type": "code",
   "execution_count": 7,
   "metadata": {
    "jupyter": {
     "source_hidden": true
    }
   },
   "outputs": [
    {
     "data": {
      "text/latex": [
       "$f\\left( x \\right) = x \\cdot \\left( x - 1.1 \\right) \\cdot \\left( x + 2 \\right) \\cdot \\left( x + 2.2 \\right) \\cdot \\left( x + 2.5 \\right) \\cdot \\left( x + 3 \\right) \\cdot \\sin\\left( 1.7 \\cdot x + 0.5 \\right)$"
      ],
      "text/plain": [
       "L\"$f\\left( x \\right) = x \\cdot \\left( x - 1.1 \\right) \\cdot \\left( x + 2 \\right) \\cdot \\left( x + 2.2 \\right) \\cdot \\left( x + 2.5 \\right) \\cdot \\left( x + 3 \\right) \\cdot \\sin\\left( 1.7 \\cdot x + 0.5 \\right)$\""
      ]
     },
     "execution_count": 7,
     "metadata": {},
     "output_type": "execute_result"
    }
   ],
   "source": [
    ":(f(x) = x * (x-1.1) * (x+2) * (x+2.2) * (x+2.5) * (x+3) * sin(1.7*x+0.5))|>latexify"
   ]
  },
  {
   "cell_type": "code",
   "execution_count": 19,
   "metadata": {},
   "outputs": [
    {
     "data": {
      "text/plain": [
       "0.25"
      ]
     },
     "execution_count": 19,
     "metadata": {},
     "output_type": "execute_result"
    }
   ],
   "source": [
    "f(x) = x * (x-1.1) * (x+2) * (x+2.2) * (x+2.5) * (x+3) * sin(1.7*x+0.5)\n",
    "a =  -0.5 .. 1.0 # Domain \n",
    "x0 = mid(a)     # Expansion point"
   ]
  },
  {
   "cell_type": "code",
   "execution_count": 20,
   "metadata": {},
   "outputs": [
    {
     "data": {
      "text/plain": [
       "[-0.5, 1]"
      ]
     },
     "execution_count": 20,
     "metadata": {},
     "output_type": "execute_result"
    }
   ],
   "source": [
    "a"
   ]
  },
  {
   "cell_type": "code",
   "execution_count": 15,
   "metadata": {},
   "outputs": [
    {
     "data": {
      "text/plain": [
       "Interval{Float64}"
      ]
     },
     "execution_count": 15,
     "metadata": {},
     "output_type": "execute_result"
    }
   ],
   "source": [
    "typeof(a)"
   ]
  },
  {
   "cell_type": "code",
   "execution_count": 21,
   "metadata": {},
   "outputs": [],
   "source": [
    "using Interact, Plots"
   ]
  },
  {
   "cell_type": "code",
   "execution_count": 28,
   "metadata": {},
   "outputs": [
    {
     "data": {
      "text/plain": [
       " 0.25 + 1.0 t + [0, 0]"
      ]
     },
     "execution_count": 28,
     "metadata": {},
     "output_type": "execute_result"
    }
   ],
   "source": [
    "n = 3\n",
    "xx = TaylorModel1(n, x0, a)  # identity function x \\mapsto x"
   ]
  },
  {
   "cell_type": "code",
   "execution_count": 29,
   "metadata": {},
   "outputs": [
    {
     "ename": "LoadError",
     "evalue": "could not load symbol \"fesetround\":\n",
     "output_type": "error",
     "traceback": [
      "could not load symbol \"fesetround\":\n",
      "",
      "Stacktrace:",
      "  [1] setrounding_raw",
      "    @ ~\\.julia\\packages\\SetRounding\\MjtxK\\src\\SetRounding.jl:45 [inlined]",
      "  [2] setrounding(#unused#::Type{Float64}, r::RoundingMode{:Down})",
      "    @ SetRounding ~\\.julia\\packages\\SetRounding\\MjtxK\\src\\SetRounding.jl:47",
      "  [3] setrounding(f::IntervalArithmetic.var\"#127#128\"{Interval{Float64}}, #unused#::Type{Float64}, rounding::RoundingMode{:Down})",
      "    @ Base.Rounding .\\rounding.jl:174",
      "  [4] mig",
      "    @ ~\\.julia\\packages\\IntervalArithmetic\\odPjL\\src\\intervals\\arithmetic.jl:297 [inlined]",
      "  [5] abs",
      "    @ ~\\.julia\\packages\\IntervalArithmetic\\odPjL\\src\\intervals\\arithmetic.jl:314 [inlined]",
      "  [6] add12(x::Interval{Float64}, y::Interval{Float64})",
      "    @ Base .\\twiceprecision.jl:84",
      "  [7] add12",
      "    @ .\\twiceprecision.jl:87 [inlined]",
      "  [8] +(x::Base.TwicePrecision{Float64}, y::Interval{Float64})",
      "    @ Base .\\twiceprecision.jl:268",
      "  [9] -",
      "    @ .\\twiceprecision.jl:281 [inlined]",
      " [10] broadcasted(#unused#::Base.Broadcast.DefaultArrayStyle{1}, #unused#::typeof(-), r::StepRangeLen{Float64, Base.TwicePrecision{Float64}, Base.TwicePrecision{Float64}}, x::Interval{Float64})",
      "    @ Base.Broadcast .\\broadcast.jl:1125",
      " [11] broadcasted(::Function, ::StepRangeLen{Float64, Base.TwicePrecision{Float64}, Base.TwicePrecision{Float64}}, ::Interval{Float64})",
      "    @ Base.Broadcast .\\broadcast.jl:1313",
      " [12] macro expansion",
      "    @ ~\\.julia\\packages\\TaylorModels\\Todyc\\src\\recipe.jl:15 [inlined]",
      " [13] apply_recipe(plotattributes::AbstractDict{Symbol, Any}, f::TaylorModel1)",
      "    @ TaylorModels ~\\.julia\\packages\\RecipesBase\\92zOw\\src\\RecipesBase.jl:282",
      " [14] _process_userrecipes!(plt::Any, plotattributes::Any, args::Any)",
      "    @ RecipesPipeline ~\\.julia\\packages\\RecipesPipeline\\uPBKQ\\src\\user_recipe.jl:36",
      " [15] recipe_pipeline!(plt::Any, plotattributes::Any, args::Any)",
      "    @ RecipesPipeline ~\\.julia\\packages\\RecipesPipeline\\uPBKQ\\src\\RecipesPipeline.jl:70",
      " [16] _plot!(plt::Plots.Plot, plotattributes::Any, args::Any)",
      "    @ Plots ~\\.julia\\packages\\Plots\\oZheM\\src\\plot.jl:172",
      " [17] plot(args::Any; kw::Any)",
      "    @ Plots ~\\.julia\\packages\\Plots\\oZheM\\src\\plot.jl:58",
      " [18] top-level scope",
      "    @ In[29]:1",
      " [19] eval",
      "    @ .\\boot.jl:360 [inlined]",
      " [20] include_string(mapexpr::typeof(REPL.softscope), mod::Module, code::String, filename::String)",
      "    @ Base .\\loading.jl:1090"
     ]
    }
   ],
   "source": [
    "plot(xx, ratio=1)"
   ]
  },
  {
   "cell_type": "code",
   "execution_count": 30,
   "metadata": {},
   "outputs": [
    {
     "data": {
      "text/plain": [
       " - 8.361114845930823 - 47.06114518304093 t - 38.35444517482823 t² + 90.43760911956869 t³ + [-26.7352, 62.5374]"
      ]
     },
     "execution_count": 30,
     "metadata": {},
     "output_type": "execute_result"
    }
   ],
   "source": [
    "ff = f(xx)"
   ]
  },
  {
   "cell_type": "code",
   "execution_count": 31,
   "metadata": {},
   "outputs": [
    {
     "data": {
      "text/plain": [
       " - 8.361114845930823 - 47.06114518304093 t - 38.35444517482823 t² + 90.43760911956869 t³ + 𝒪(t⁴)"
      ]
     },
     "execution_count": 31,
     "metadata": {},
     "output_type": "execute_result"
    }
   ],
   "source": [
    "ff.pol"
   ]
  },
  {
   "cell_type": "code",
   "execution_count": 32,
   "metadata": {},
   "outputs": [
    {
     "ename": "LoadError",
     "evalue": "could not load symbol \"fesetround\":\n",
     "output_type": "error",
     "traceback": [
      "could not load symbol \"fesetround\":\n",
      "",
      "Stacktrace:",
      "  [1] setrounding_raw",
      "    @ ~\\.julia\\packages\\SetRounding\\MjtxK\\src\\SetRounding.jl:45 [inlined]",
      "  [2] setrounding(#unused#::Type{Float64}, r::RoundingMode{:Down})",
      "    @ SetRounding ~\\.julia\\packages\\SetRounding\\MjtxK\\src\\SetRounding.jl:47",
      "  [3] setrounding(f::IntervalArithmetic.var\"#127#128\"{Interval{Float64}}, #unused#::Type{Float64}, rounding::RoundingMode{:Down})",
      "    @ Base.Rounding .\\rounding.jl:174",
      "  [4] mig",
      "    @ ~\\.julia\\packages\\IntervalArithmetic\\odPjL\\src\\intervals\\arithmetic.jl:297 [inlined]",
      "  [5] abs",
      "    @ ~\\.julia\\packages\\IntervalArithmetic\\odPjL\\src\\intervals\\arithmetic.jl:314 [inlined]",
      "  [6] add12(x::Interval{Float64}, y::Interval{Float64})",
      "    @ Base .\\twiceprecision.jl:84",
      "  [7] add12",
      "    @ .\\twiceprecision.jl:87 [inlined]",
      "  [8] +(x::Base.TwicePrecision{Float64}, y::Interval{Float64})",
      "    @ Base .\\twiceprecision.jl:268",
      "  [9] -",
      "    @ .\\twiceprecision.jl:281 [inlined]",
      " [10] broadcasted(#unused#::Base.Broadcast.DefaultArrayStyle{1}, #unused#::typeof(-), r::StepRangeLen{Float64, Base.TwicePrecision{Float64}, Base.TwicePrecision{Float64}}, x::Interval{Float64})",
      "    @ Base.Broadcast .\\broadcast.jl:1125",
      " [11] broadcasted(::Function, ::StepRangeLen{Float64, Base.TwicePrecision{Float64}, Base.TwicePrecision{Float64}}, ::Interval{Float64})",
      "    @ Base.Broadcast .\\broadcast.jl:1313",
      " [12] macro expansion",
      "    @ ~\\.julia\\packages\\TaylorModels\\Todyc\\src\\recipe.jl:15 [inlined]",
      " [13] apply_recipe(plotattributes::AbstractDict{Symbol, Any}, f::TaylorModel1)",
      "    @ TaylorModels ~\\.julia\\packages\\RecipesBase\\92zOw\\src\\RecipesBase.jl:282",
      " [14] _process_userrecipes!(plt::Any, plotattributes::Any, args::Any)",
      "    @ RecipesPipeline ~\\.julia\\packages\\RecipesPipeline\\uPBKQ\\src\\user_recipe.jl:36",
      " [15] recipe_pipeline!(plt::Any, plotattributes::Any, args::Any)",
      "    @ RecipesPipeline ~\\.julia\\packages\\RecipesPipeline\\uPBKQ\\src\\RecipesPipeline.jl:70",
      " [16] _plot!(plt::Plots.Plot, plotattributes::Any, args::Any)",
      "    @ Plots ~\\.julia\\packages\\Plots\\oZheM\\src\\plot.jl:172",
      " [17] #plot!#134",
      "    @ ~\\.julia\\packages\\Plots\\oZheM\\src\\plot.jl:162 [inlined]",
      " [18] plot!(plt::Plots.Plot, args::Any)",
      "    @ Plots ~\\.julia\\packages\\Plots\\oZheM\\src\\plot.jl:159",
      " [19] plot!(args::Any; kw::Any)",
      "    @ Plots ~\\.julia\\packages\\Plots\\oZheM\\src\\plot.jl:153",
      " [20] plot!(args::Any)",
      "    @ Plots ~\\.julia\\packages\\Plots\\oZheM\\src\\plot.jl:147",
      " [21] (::var\"#1#3\")(n::Int64, y::Int64)",
      "    @ Main .\\In[32]:9",
      " [22] map(f::Function, observable::Widget{:slider, Int64}, os::Widget{:slider, Int64})",
      "    @ Observables ~\\.julia\\packages\\Observables\\Yf3xU\\src\\Observables.jl:365",
      " [23] top-level scope",
      "    @ ~\\.julia\\packages\\Widgets\\451tD\\src\\manipulate.jl:25",
      " [24] eval",
      "    @ .\\boot.jl:360 [inlined]",
      " [25] include_string(mapexpr::typeof(REPL.softscope), mod::Module, code::String, filename::String)",
      "    @ Base .\\loading.jl:1090"
     ]
    }
   ],
   "source": [
    "@manipulate for n in slider(1:10, value=1), y in 1:100\n",
    "    xx = TaylorModel1(n, x0, a)\n",
    "    ff = f(xx)\n",
    "    \n",
    "    plot(a.lo:0.01:a.hi, f, lw=3, leg=false)\n",
    "    \n",
    "    scatter!([x0], [f(x0)])\n",
    "    \n",
    "    plot!(ff)\n",
    "    plot!(x -> ff.pol(x - x0), lw=2, ls=:dash)\n",
    "    \n",
    "    ylims!(-y, y)\n",
    "end"
   ]
  },
  {
   "cell_type": "code",
   "execution_count": null,
   "metadata": {},
   "outputs": [],
   "source": []
  }
 ],
 "metadata": {
  "@webio": {
   "lastCommId": "0658b9bb0ceb4e7abd354e72206ad387",
   "lastKernelId": "bb4f1a48-c771-40a9-9801-a9b07d79c8b0"
  },
  "kernelspec": {
   "display_name": "Julia 1.6.0-beta1",
   "language": "julia",
   "name": "julia-1.6"
  },
  "language_info": {
   "file_extension": ".jl",
   "mimetype": "application/julia",
   "name": "julia",
   "version": "1.6.0"
  }
 },
 "nbformat": 4,
 "nbformat_minor": 4
}
